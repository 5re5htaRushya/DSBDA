{
 "cells": [
  {
   "cell_type": "code",
   "execution_count": 1,
   "metadata": {},
   "outputs": [],
   "source": [
    "#Question 3\n",
    "import numpy as np\n",
    "import pandas as pd\n",
    "from pylab import rcParams\n",
    "from scipy.stats import f_oneway\n",
    "from scipy.stats import ttest_ind\n",
    "import math\n",
    "from scipy.stats import t"
   ]
  },
  {
   "cell_type": "code",
   "execution_count": 2,
   "metadata": {},
   "outputs": [],
   "source": [
    "old = np.array([45, 38, 52, 48, 25, 39, 51, 46, 55, 46])\n",
    "young = np.array([34, 22, 15, 27, 37, 41, 24, 19, 26, 36])"
   ]
  },
  {
   "cell_type": "code",
   "execution_count": 3,
   "metadata": {},
   "outputs": [],
   "source": [
    "def std(data1):\n",
    "    mean1 = sum(data1)/len(data1)\n",
    "    SSd = 0\n",
    "    n=len(data1)\n",
    "    for i in range(n):\n",
    "        SSd = SSd +(data1[i] - mean1)**2\n",
    "    sd = (SSd / (n))**0.5\n",
    "    return sd"
   ]
  },
  {
   "cell_type": "code",
   "execution_count": 4,
   "metadata": {},
   "outputs": [],
   "source": [
    "# function for calculating the t-test for two independent samples\n",
    "def independent_ttest(data1, data2, alpha):\n",
    "    # calculate means\n",
    "    mean1, mean2 = sum(data1)/len(data1), sum(data2)/len(data2)\n",
    "    # calculate standard errors\n",
    "    # calculate sample standard deviations\n",
    "    std1, std2 = std(data1), std(data2)\n",
    "    n1, n2 = len(data1), len(data2)\n",
    "    se1, se2 = std1/math.sqrt(n1), std2/math.sqrt(n2)\n",
    "    # standard error on the difference between the samples\n",
    "    sed = math.sqrt(se1**2.0 + se2**2.0)\n",
    "    # calculate the t statistic\n",
    "    t_stat = (mean1 - mean2) / sed\n",
    "    # degrees of freedom\n",
    "    #df = len(data1) + len(data2) - 2\n",
    "    df = n1 + n2 - 2\n",
    "    # calculate the critical value\n",
    "    cv = t.ppf(1.0 - alpha, df)\n",
    "    # calculate the p-value\n",
    "    p = (1.0 - t.cdf(abs(t_stat), df)) * 2.0\n",
    "    # return everything\n",
    "    return t_stat, df, cv, p"
   ]
  },
  {
   "cell_type": "code",
   "execution_count": 6,
   "metadata": {},
   "outputs": [
    {
     "name": "stdout",
     "output_type": "stream",
     "text": [
      "4.487848235872983 18 1.7340636066175354 0.0002845251943539573\n"
     ]
    }
   ],
   "source": [
    "t, df, cv, p = independent_ttest(old, young, 0.05)\n",
    "print(t, df, cv, p)"
   ]
  },
  {
   "cell_type": "markdown",
   "metadata": {},
   "source": [
    "tStat > tCrit, so we reject null hypothesis"
   ]
  }
 ],
 "metadata": {
  "kernelspec": {
   "display_name": "Python 3",
   "language": "python",
   "name": "python3"
  },
  "language_info": {
   "codemirror_mode": {
    "name": "ipython",
    "version": 3
   },
   "file_extension": ".py",
   "mimetype": "text/x-python",
   "name": "python",
   "nbconvert_exporter": "python",
   "pygments_lexer": "ipython3",
   "version": "3.6.8"
  }
 },
 "nbformat": 4,
 "nbformat_minor": 4
}
