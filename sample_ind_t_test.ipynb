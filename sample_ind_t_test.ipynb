{
 "cells": [
  {
   "cell_type": "code",
   "execution_count": 32,
   "metadata": {},
   "outputs": [],
   "source": [
    "#Question 2\n",
    "import numpy as np\n",
    "import pandas as pd\n",
    "from pylab import rcParams\n",
    "from scipy.stats import f_oneway\n",
    "from scipy.stats import ttest_ind\n",
    "import math\n",
    "from scipy.stats import t"
   ]
  },
  {
   "cell_type": "code",
   "execution_count": 33,
   "metadata": {},
   "outputs": [],
   "source": [
    "women = np.array([84, 97, 58, 90])\n",
    "men = np.array([88, 90, 52, 97, 86])"
   ]
  },
  {
   "cell_type": "code",
   "execution_count": 34,
   "metadata": {},
   "outputs": [],
   "source": [
    "def std(data1):\n",
    "    mean1 = sum(data1)/len(data1)\n",
    "    SSd = 0\n",
    "    n=len(data1)\n",
    "    for i in range(n):\n",
    "        SSd = SSd +(data1[i] - mean1)**2\n",
    "    sd = (SSd / (n))**0.5\n",
    "    return sd"
   ]
  },
  {
   "cell_type": "code",
   "execution_count": 35,
   "metadata": {},
   "outputs": [],
   "source": [
    "# function for calculating the t-test for two independent samples\n",
    "def independent_ttest(data1, data2, alpha):\n",
    "    # calculate means\n",
    "    mean1, mean2 = sum(data1)/len(data1), sum(data2)/len(data2)\n",
    "    # calculate standard errors\n",
    "    # calculate sample standard deviations\n",
    "    std1, std2 = std(data1), std(data2)\n",
    "    n1, n2 = 10, 10\n",
    "    se1, se2 = std1/math.sqrt(n1), std2/math.sqrt(n2)\n",
    "    # standard error on the difference between the samples\n",
    "    sed = math.sqrt(se1**2.0 + se2**2.0)\n",
    "    # calculate the t statistic\n",
    "    t_stat = (mean1 - mean2) / sed\n",
    "    # degrees of freedom\n",
    "    #df = len(data1) + len(data2) - 2\n",
    "    df = n1 + n2 - 2\n",
    "    # calculate the critical value\n",
    "    cv = t.ppf(1.0 - alpha, df)\n",
    "    # calculate the p-value\n",
    "    p = (1.0 - t.cdf(abs(t_stat), df)) * 2.0\n",
    "    # return everything\n",
    "    return t_stat, df, cv, p"
   ]
  },
  {
   "cell_type": "code",
   "execution_count": 36,
   "metadata": {},
   "outputs": [
    {
     "name": "stdout",
     "output_type": "stream",
     "text": [
      "-0.051324972605989734 18 1.7340636066175354 0.9596318552046097\n"
     ]
    }
   ],
   "source": [
    "t, df, cv, p = independent_ttest(women, men, 0.05)\n",
    "print(t, df, cv, p)"
   ]
  },
  {
   "cell_type": "markdown",
   "metadata": {},
   "source": [
    "tStat < tCrit, so fail to reject null Hypothesis"
   ]
  }
 ],
 "metadata": {
  "kernelspec": {
   "display_name": "Python 3",
   "language": "python",
   "name": "python3"
  },
  "language_info": {
   "codemirror_mode": {
    "name": "ipython",
    "version": 3
   },
   "file_extension": ".py",
   "mimetype": "text/x-python",
   "name": "python",
   "nbconvert_exporter": "python",
   "pygments_lexer": "ipython3",
   "version": "3.6.8"
  }
 },
 "nbformat": 4,
 "nbformat_minor": 4
}
