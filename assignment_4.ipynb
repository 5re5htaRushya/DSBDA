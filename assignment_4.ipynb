{
 "cells": [
  {
   "cell_type": "code",
   "execution_count": 3,
   "metadata": {},
   "outputs": [
    {
     "data": {
      "text/html": [
       "<div>\n",
       "<style scoped>\n",
       "    .dataframe tbody tr th:only-of-type {\n",
       "        vertical-align: middle;\n",
       "    }\n",
       "\n",
       "    .dataframe tbody tr th {\n",
       "        vertical-align: top;\n",
       "    }\n",
       "\n",
       "    .dataframe thead th {\n",
       "        text-align: right;\n",
       "    }\n",
       "</style>\n",
       "<table border=\"1\" class=\"dataframe\">\n",
       "  <thead>\n",
       "    <tr style=\"text-align: right;\">\n",
       "      <th></th>\n",
       "      <th>Group1</th>\n",
       "      <th>Group2</th>\n",
       "      <th>Group3</th>\n",
       "    </tr>\n",
       "  </thead>\n",
       "  <tbody>\n",
       "    <tr>\n",
       "      <th>0</th>\n",
       "      <td>51</td>\n",
       "      <td>23</td>\n",
       "      <td>56</td>\n",
       "    </tr>\n",
       "    <tr>\n",
       "      <th>1</th>\n",
       "      <td>45</td>\n",
       "      <td>43</td>\n",
       "      <td>76</td>\n",
       "    </tr>\n",
       "    <tr>\n",
       "      <th>2</th>\n",
       "      <td>33</td>\n",
       "      <td>23</td>\n",
       "      <td>74</td>\n",
       "    </tr>\n",
       "    <tr>\n",
       "      <th>3</th>\n",
       "      <td>45</td>\n",
       "      <td>43</td>\n",
       "      <td>87</td>\n",
       "    </tr>\n",
       "    <tr>\n",
       "      <th>4</th>\n",
       "      <td>67</td>\n",
       "      <td>45</td>\n",
       "      <td>56</td>\n",
       "    </tr>\n",
       "  </tbody>\n",
       "</table>\n",
       "</div>"
      ],
      "text/plain": [
       "   Group1  Group2  Group3\n",
       "0      51      23      56\n",
       "1      45      43      76\n",
       "2      33      23      74\n",
       "3      45      43      87\n",
       "4      67      45      56"
      ]
     },
     "execution_count": 3,
     "metadata": {},
     "output_type": "execute_result"
    }
   ],
   "source": [
    "#1\n",
    "import numpy as np\n",
    "import matplotlib.pyplot as plt\n",
    "import pandas as pd\n",
    "from scipy import stats\n",
    "\n",
    "data=pd.DataFrame({\"Group1\": [51,45,33,45,67],\n",
    "    \"Group2\": [23,43,23,43,45],\n",
    "    \"Group3\": [56,76,74,87,56]})\n",
    "data"
   ]
  },
  {
   "cell_type": "code",
   "execution_count": 4,
   "metadata": {},
   "outputs": [
    {
     "name": "stdout",
     "output_type": "stream",
     "text": [
      "F value: 9.747205503009463 \n",
      "P value: 0.0030597541434430556\n"
     ]
    }
   ],
   "source": [
    "f, p = stats.f_oneway(data['Group1'], data['Group2'], data['Group3'])\n",
    "print(\"F value:\", f, \"\\nP value:\", p)"
   ]
  },
  {
   "cell_type": "code",
   "execution_count": 5,
   "metadata": {},
   "outputs": [
    {
     "name": "stdout",
     "output_type": "stream",
     "text": [
      "Null hypothesis rejected\n"
     ]
    }
   ],
   "source": [
    "print(\"Null hypothesis rejected\") if p < 0.05 else print(\"Failed to reject\")"
   ]
  },
  {
   "cell_type": "code",
   "execution_count": 11,
   "metadata": {},
   "outputs": [
    {
     "name": "stdout",
     "output_type": "stream",
     "text": [
      "E calculated: 113.9872218959763 \n",
      " tabulated:  4.85777034759582\n"
     ]
    }
   ],
   "source": [
    "#2\n",
    "n = 30; C = 3\n",
    "alpha = 0.01\n",
    "means = [50.26,45.32,53.67 ] \n",
    "sd = [10.45,12.76,11.47 ]\n",
    "tmean = sum(means)/3\n",
    "SSC = 0\n",
    "for i in means:\n",
    "    SSC += ((i-tmean)**2)\n",
    "SSC *= n\n",
    "VC=C- 1\n",
    "msc = SSC/VC\n",
    "sse = 0\n",
    "for i in sd:\n",
    "    sse += i**2\n",
    "mse=sse/(C*n-C)\n",
    "fcalc = msc/mse\n",
    "ftab = stats.f.ppf(q = 1 - alpha, dfn = C - 1, dfd = n*C-C)\n",
    "print(\"E calculated:\", fcalc, \"\\n tabulated: \", ftab)"
   ]
  },
  {
   "cell_type": "code",
   "execution_count": 12,
   "metadata": {},
   "outputs": [
    {
     "name": "stdout",
     "output_type": "stream",
     "text": [
      "Null Hypothesis rejected\n"
     ]
    }
   ],
   "source": [
    "print(\"Null Hypothesis rejected\") if fcalc > ftab else print(\"Failed to reject\")"
   ]
  },
  {
   "cell_type": "code",
   "execution_count": 13,
   "metadata": {},
   "outputs": [
    {
     "name": "stdout",
     "output_type": "stream",
     "text": [
      "correlation coefficient:  0.5298089018901743\n"
     ]
    }
   ],
   "source": [
    "#3\n",
    "corr, P = stats.pearsonr([43,21,25,42,57,59], [99,65,79,75,87,81])\n",
    "print(\"correlation coefficient: \", corr)"
   ]
  },
  {
   "cell_type": "code",
   "execution_count": 14,
   "metadata": {},
   "outputs": [
    {
     "name": "stdout",
     "output_type": "stream",
     "text": [
      "Correlation coefficient:  0.9575066230015952\n"
     ]
    }
   ],
   "source": [
    "#4\n",
    "corr, p = stats.pearsonr([14.2,16.4,11.9,15.2,18.5,22.1,19.4,25.1,23.4,18.1,22.6,17.2],\n",
    "                         [215,325,185,332,406,522,412,614,544,421,445,408])\n",
    "print(\"Correlation coefficient: \", corr)"
   ]
  },
  {
   "cell_type": "code",
   "execution_count": 15,
   "metadata": {},
   "outputs": [
    {
     "name": "stdout",
     "output_type": "stream",
     "text": [
      "F tabulated:  5.991464547107979\n"
     ]
    }
   ],
   "source": [
    "#5\n",
    "C = 3\n",
    "r= 2\n",
    "alpha = 0.05\n",
    "result, p = stats.chisquare([200,250,150,300,50,50])\n",
    "ftab = stats.chi2.ppf(1-alpha, (C-1)*(r-1))\n",
    "print(\"F tabulated: \", ftab)"
   ]
  },
  {
   "cell_type": "code",
   "execution_count": 16,
   "metadata": {},
   "outputs": [
    {
     "name": "stdout",
     "output_type": "stream",
     "text": [
      "Null hypothesis rejected\n"
     ]
    }
   ],
   "source": [
    "print(\"Null hypothesis rejected\") if result > ftab else print(\"Failed to reject\")"
   ]
  },
  {
   "cell_type": "code",
   "execution_count": 24,
   "metadata": {},
   "outputs": [
    {
     "name": "stdout",
     "output_type": "stream",
     "text": [
      "E calculated: 14.618181818181819\n",
      "F Tabulated: 9.487729036781154\n"
     ]
    }
   ],
   "source": [
    "#6\n",
    "C = 5\n",
    "alpha=0.05\n",
    "n = 1100\n",
    "#since equal\n",
    "\n",
    "x = [n/C for i in range(0,C)]\n",
    "fcalc, p = stats.chisquare([262,234,204,190,210], x)\n",
    "\n",
    "ftab = stats.chi2.ppf(1-alpha, (C - 1)) \n",
    "print(\"E calculated:\", fcalc) \n",
    "print(\"F Tabulated:\", ftab)"
   ]
  },
  {
   "cell_type": "code",
   "execution_count": 25,
   "metadata": {},
   "outputs": [
    {
     "name": "stdout",
     "output_type": "stream",
     "text": [
      "Null hypothesis rejected\n"
     ]
    }
   ],
   "source": [
    "if fcalc > ftab:\n",
    "    print(\"Null hypothesis rejected\")\n",
    "else:\n",
    "    print(\"Failed to reject, proportions are same\")"
   ]
  },
  {
   "cell_type": "code",
   "execution_count": null,
   "metadata": {},
   "outputs": [],
   "source": []
  },
  {
   "cell_type": "code",
   "execution_count": 26,
   "metadata": {},
   "outputs": [
    {
     "name": "stdout",
     "output_type": "stream",
     "text": [
      "E calculated: 26.8\n",
      "F Tabulated: 16.811893829770927\n"
     ]
    }
   ],
   "source": [
    "#7\n",
    "C = 7\n",
    "alpha=0.01\n",
    "n = 700\n",
    "#since equal\n",
    "\n",
    "x = [n/C for i in range(0,C)]\n",
    "fcalc, p = stats.chisquare([65, 103, 114, 116, 115, 112, 75], x)\n",
    "ftab = stats.chi2.ppf(1-alpha, (C - 1)) \n",
    "print(\"E calculated:\", fcalc) \n",
    "print(\"F Tabulated:\", ftab)"
   ]
  },
  {
   "cell_type": "code",
   "execution_count": 27,
   "metadata": {},
   "outputs": [
    {
     "name": "stdout",
     "output_type": "stream",
     "text": [
      "Null hypothesis rejected\n"
     ]
    }
   ],
   "source": [
    "if fcalc > ftab:\n",
    "    print(\"Null hypothesis rejected\")\n",
    "else:\n",
    "    print(\"Failed to reject, proportions are same\")"
   ]
  }
 ],
 "metadata": {
  "kernelspec": {
   "display_name": "Python 3",
   "language": "python",
   "name": "python3"
  },
  "language_info": {
   "codemirror_mode": {
    "name": "ipython",
    "version": 3
   },
   "file_extension": ".py",
   "mimetype": "text/x-python",
   "name": "python",
   "nbconvert_exporter": "python",
   "pygments_lexer": "ipython3",
   "version": "3.6.8"
  }
 },
 "nbformat": 4,
 "nbformat_minor": 4
}
